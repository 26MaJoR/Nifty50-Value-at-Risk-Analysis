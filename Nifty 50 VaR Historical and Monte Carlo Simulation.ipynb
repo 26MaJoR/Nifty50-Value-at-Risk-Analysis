{
 "cells": [
  {
   "cell_type": "code",
   "execution_count": 85,
   "id": "d6842581",
   "metadata": {},
   "outputs": [],
   "source": [
    "import pandas as pd\n",
    "import numpy as np\n",
    "import matplotlib.pyplot as plt"
   ]
  },
  {
   "cell_type": "code",
   "execution_count": 123,
   "id": "0fe0a319",
   "metadata": {},
   "outputs": [
    {
     "data": {
      "text/plain": [
       "'C:\\\\Users\\\\Asus\\\\Algo_python'"
      ]
     },
     "execution_count": 123,
     "metadata": {},
     "output_type": "execute_result"
    }
   ],
   "source": [
    "import os\n",
    "os.getcwd()\n",
    "#data = pd.read_excel(\"Nifty 50 Historical Data\")"
   ]
  },
  {
   "cell_type": "code",
   "execution_count": 135,
   "id": "fc0612d4",
   "metadata": {},
   "outputs": [
    {
     "data": {
      "text/html": [
       "<div>\n",
       "<style scoped>\n",
       "    .dataframe tbody tr th:only-of-type {\n",
       "        vertical-align: middle;\n",
       "    }\n",
       "\n",
       "    .dataframe tbody tr th {\n",
       "        vertical-align: top;\n",
       "    }\n",
       "\n",
       "    .dataframe thead th {\n",
       "        text-align: right;\n",
       "    }\n",
       "</style>\n",
       "<table border=\"1\" class=\"dataframe\">\n",
       "  <thead>\n",
       "    <tr style=\"text-align: right;\">\n",
       "      <th></th>\n",
       "      <th>Date</th>\n",
       "      <th>Open</th>\n",
       "      <th>High</th>\n",
       "      <th>Low</th>\n",
       "      <th>Close</th>\n",
       "      <th>Adj Close</th>\n",
       "      <th>Volume</th>\n",
       "    </tr>\n",
       "  </thead>\n",
       "  <tbody>\n",
       "    <tr>\n",
       "      <th>0</th>\n",
       "      <td>2019-01-02</td>\n",
       "      <td>10868.849609</td>\n",
       "      <td>10895.349609</td>\n",
       "      <td>10735.049805</td>\n",
       "      <td>10792.500000</td>\n",
       "      <td>10792.500000</td>\n",
       "      <td>309700.0</td>\n",
       "    </tr>\n",
       "    <tr>\n",
       "      <th>1</th>\n",
       "      <td>2019-01-03</td>\n",
       "      <td>10796.799805</td>\n",
       "      <td>10814.049805</td>\n",
       "      <td>10661.250000</td>\n",
       "      <td>10672.250000</td>\n",
       "      <td>10672.250000</td>\n",
       "      <td>286200.0</td>\n",
       "    </tr>\n",
       "    <tr>\n",
       "      <th>2</th>\n",
       "      <td>2019-01-04</td>\n",
       "      <td>10699.700195</td>\n",
       "      <td>10741.049805</td>\n",
       "      <td>10628.650391</td>\n",
       "      <td>10727.349609</td>\n",
       "      <td>10727.349609</td>\n",
       "      <td>296600.0</td>\n",
       "    </tr>\n",
       "    <tr>\n",
       "      <th>3</th>\n",
       "      <td>2019-01-07</td>\n",
       "      <td>10804.849609</td>\n",
       "      <td>10835.950195</td>\n",
       "      <td>10750.150391</td>\n",
       "      <td>10771.799805</td>\n",
       "      <td>10771.799805</td>\n",
       "      <td>269400.0</td>\n",
       "    </tr>\n",
       "    <tr>\n",
       "      <th>4</th>\n",
       "      <td>2019-01-08</td>\n",
       "      <td>10786.250000</td>\n",
       "      <td>10818.450195</td>\n",
       "      <td>10733.250000</td>\n",
       "      <td>10802.150391</td>\n",
       "      <td>10802.150391</td>\n",
       "      <td>277700.0</td>\n",
       "    </tr>\n",
       "  </tbody>\n",
       "</table>\n",
       "</div>"
      ],
      "text/plain": [
       "         Date          Open          High           Low         Close   \n",
       "0  2019-01-02  10868.849609  10895.349609  10735.049805  10792.500000  \\\n",
       "1  2019-01-03  10796.799805  10814.049805  10661.250000  10672.250000   \n",
       "2  2019-01-04  10699.700195  10741.049805  10628.650391  10727.349609   \n",
       "3  2019-01-07  10804.849609  10835.950195  10750.150391  10771.799805   \n",
       "4  2019-01-08  10786.250000  10818.450195  10733.250000  10802.150391   \n",
       "\n",
       "      Adj Close    Volume  \n",
       "0  10792.500000  309700.0  \n",
       "1  10672.250000  286200.0  \n",
       "2  10727.349609  296600.0  \n",
       "3  10771.799805  269400.0  \n",
       "4  10802.150391  277700.0  "
      ]
     },
     "execution_count": 135,
     "metadata": {},
     "output_type": "execute_result"
    }
   ],
   "source": [
    "data = pd.read_csv(r\"C:\\Users\\Asus\\Downloads\\NSEI.csv\")\n",
    "data.head()\n",
    "#data.tail()"
   ]
  },
  {
   "cell_type": "code",
   "execution_count": 136,
   "id": "41214de5",
   "metadata": {},
   "outputs": [
    {
     "name": "stdout",
     "output_type": "stream",
     "text": [
      "<class 'pandas.core.frame.DataFrame'>\n",
      "RangeIndex: 1397 entries, 0 to 1396\n",
      "Data columns (total 7 columns):\n",
      " #   Column     Non-Null Count  Dtype  \n",
      "---  ------     --------------  -----  \n",
      " 0   Date       1397 non-null   object \n",
      " 1   Open       1395 non-null   float64\n",
      " 2   High       1395 non-null   float64\n",
      " 3   Low        1395 non-null   float64\n",
      " 4   Close      1395 non-null   float64\n",
      " 5   Adj Close  1395 non-null   float64\n",
      " 6   Volume     1395 non-null   float64\n",
      "dtypes: float64(6), object(1)\n",
      "memory usage: 76.5+ KB\n"
     ]
    }
   ],
   "source": [
    "data.info()"
   ]
  },
  {
   "cell_type": "code",
   "execution_count": 137,
   "id": "66db77a3",
   "metadata": {},
   "outputs": [
    {
     "data": {
      "text/html": [
       "<div>\n",
       "<style scoped>\n",
       "    .dataframe tbody tr th:only-of-type {\n",
       "        vertical-align: middle;\n",
       "    }\n",
       "\n",
       "    .dataframe tbody tr th {\n",
       "        vertical-align: top;\n",
       "    }\n",
       "\n",
       "    .dataframe thead th {\n",
       "        text-align: right;\n",
       "    }\n",
       "</style>\n",
       "<table border=\"1\" class=\"dataframe\">\n",
       "  <thead>\n",
       "    <tr style=\"text-align: right;\">\n",
       "      <th></th>\n",
       "      <th>Date</th>\n",
       "      <th>Open</th>\n",
       "      <th>High</th>\n",
       "      <th>Low</th>\n",
       "      <th>Close</th>\n",
       "      <th>Returns</th>\n",
       "    </tr>\n",
       "  </thead>\n",
       "  <tbody>\n",
       "    <tr>\n",
       "      <th>242</th>\n",
       "      <td>26-AUG-2024</td>\n",
       "      <td>24906.1</td>\n",
       "      <td>25043.80</td>\n",
       "      <td>24874.70</td>\n",
       "      <td>25010.60</td>\n",
       "      <td>0.007551</td>\n",
       "    </tr>\n",
       "    <tr>\n",
       "      <th>243</th>\n",
       "      <td>27-AUG-2024</td>\n",
       "      <td>25024.8</td>\n",
       "      <td>25073.10</td>\n",
       "      <td>24973.65</td>\n",
       "      <td>25017.75</td>\n",
       "      <td>0.000286</td>\n",
       "    </tr>\n",
       "    <tr>\n",
       "      <th>244</th>\n",
       "      <td>28-AUG-2024</td>\n",
       "      <td>25030.8</td>\n",
       "      <td>25129.60</td>\n",
       "      <td>24964.65</td>\n",
       "      <td>25052.35</td>\n",
       "      <td>0.001383</td>\n",
       "    </tr>\n",
       "    <tr>\n",
       "      <th>245</th>\n",
       "      <td>29-AUG-2024</td>\n",
       "      <td>25035.3</td>\n",
       "      <td>25192.90</td>\n",
       "      <td>24998.50</td>\n",
       "      <td>25151.95</td>\n",
       "      <td>0.003976</td>\n",
       "    </tr>\n",
       "    <tr>\n",
       "      <th>246</th>\n",
       "      <td>30-AUG-2024</td>\n",
       "      <td>25249.7</td>\n",
       "      <td>25268.35</td>\n",
       "      <td>25199.40</td>\n",
       "      <td>25235.90</td>\n",
       "      <td>0.003338</td>\n",
       "    </tr>\n",
       "  </tbody>\n",
       "</table>\n",
       "</div>"
      ],
      "text/plain": [
       "           Date     Open      High       Low     Close    Returns\n",
       "242  26-AUG-2024  24906.1  25043.80  24874.70  25010.60  0.007551\n",
       "243  27-AUG-2024  25024.8  25073.10  24973.65  25017.75  0.000286\n",
       "244  28-AUG-2024  25030.8  25129.60  24964.65  25052.35  0.001383\n",
       "245  29-AUG-2024  25035.3  25192.90  24998.50  25151.95  0.003976\n",
       "246  30-AUG-2024  25249.7  25268.35  25199.40  25235.90  0.003338"
      ]
     },
     "execution_count": 137,
     "metadata": {},
     "output_type": "execute_result"
    }
   ],
   "source": [
    "nifty.tail()"
   ]
  },
  {
   "cell_type": "code",
   "execution_count": 138,
   "id": "4672d475",
   "metadata": {},
   "outputs": [
    {
     "name": "stdout",
     "output_type": "stream",
     "text": [
      "<class 'pandas.core.frame.DataFrame'>\n",
      "Index: 246 entries, 1 to 246\n",
      "Data columns (total 6 columns):\n",
      " #   Column   Non-Null Count  Dtype  \n",
      "---  ------   --------------  -----  \n",
      " 0   Date     246 non-null    object \n",
      " 1   Open     246 non-null    float64\n",
      " 2   High     246 non-null    float64\n",
      " 3   Low      246 non-null    float64\n",
      " 4   Close    246 non-null    float64\n",
      " 5   Returns  246 non-null    float64\n",
      "dtypes: float64(5), object(1)\n",
      "memory usage: 13.5+ KB\n",
      "Index(['Date ', 'Open ', 'High ', 'Low ', 'Close ', 'Returns'], dtype='object')\n"
     ]
    }
   ],
   "source": [
    "nifty.info()\n",
    "print(nifty.columns)"
   ]
  },
  {
   "cell_type": "code",
   "execution_count": 139,
   "id": "12921925",
   "metadata": {},
   "outputs": [
    {
     "data": {
      "text/html": [
       "<div>\n",
       "<style scoped>\n",
       "    .dataframe tbody tr th:only-of-type {\n",
       "        vertical-align: middle;\n",
       "    }\n",
       "\n",
       "    .dataframe tbody tr th {\n",
       "        vertical-align: top;\n",
       "    }\n",
       "\n",
       "    .dataframe thead th {\n",
       "        text-align: right;\n",
       "    }\n",
       "</style>\n",
       "<table border=\"1\" class=\"dataframe\">\n",
       "  <thead>\n",
       "    <tr style=\"text-align: right;\">\n",
       "      <th></th>\n",
       "      <th>Date</th>\n",
       "      <th>Open</th>\n",
       "      <th>High</th>\n",
       "      <th>Low</th>\n",
       "      <th>Close</th>\n",
       "      <th>Returns</th>\n",
       "    </tr>\n",
       "  </thead>\n",
       "  <tbody>\n",
       "    <tr>\n",
       "      <th>1</th>\n",
       "      <td>04-SEP-2023</td>\n",
       "      <td>19525.05</td>\n",
       "      <td>19545.15</td>\n",
       "      <td>19432.85</td>\n",
       "      <td>19528.80</td>\n",
       "      <td>NaN</td>\n",
       "    </tr>\n",
       "    <tr>\n",
       "      <th>2</th>\n",
       "      <td>05-SEP-2023</td>\n",
       "      <td>19564.65</td>\n",
       "      <td>19587.05</td>\n",
       "      <td>19525.75</td>\n",
       "      <td>19574.90</td>\n",
       "      <td>0.002361</td>\n",
       "    </tr>\n",
       "    <tr>\n",
       "      <th>3</th>\n",
       "      <td>06-SEP-2023</td>\n",
       "      <td>19581.20</td>\n",
       "      <td>19636.45</td>\n",
       "      <td>19491.50</td>\n",
       "      <td>19611.05</td>\n",
       "      <td>0.001847</td>\n",
       "    </tr>\n",
       "    <tr>\n",
       "      <th>4</th>\n",
       "      <td>07-SEP-2023</td>\n",
       "      <td>19598.65</td>\n",
       "      <td>19737.00</td>\n",
       "      <td>19550.05</td>\n",
       "      <td>19727.05</td>\n",
       "      <td>0.005915</td>\n",
       "    </tr>\n",
       "    <tr>\n",
       "      <th>5</th>\n",
       "      <td>08-SEP-2023</td>\n",
       "      <td>19774.80</td>\n",
       "      <td>19867.15</td>\n",
       "      <td>19728.05</td>\n",
       "      <td>19819.95</td>\n",
       "      <td>0.004709</td>\n",
       "    </tr>\n",
       "    <tr>\n",
       "      <th>...</th>\n",
       "      <td>...</td>\n",
       "      <td>...</td>\n",
       "      <td>...</td>\n",
       "      <td>...</td>\n",
       "      <td>...</td>\n",
       "      <td>...</td>\n",
       "    </tr>\n",
       "    <tr>\n",
       "      <th>242</th>\n",
       "      <td>26-AUG-2024</td>\n",
       "      <td>24906.10</td>\n",
       "      <td>25043.80</td>\n",
       "      <td>24874.70</td>\n",
       "      <td>25010.60</td>\n",
       "      <td>0.007551</td>\n",
       "    </tr>\n",
       "    <tr>\n",
       "      <th>243</th>\n",
       "      <td>27-AUG-2024</td>\n",
       "      <td>25024.80</td>\n",
       "      <td>25073.10</td>\n",
       "      <td>24973.65</td>\n",
       "      <td>25017.75</td>\n",
       "      <td>0.000286</td>\n",
       "    </tr>\n",
       "    <tr>\n",
       "      <th>244</th>\n",
       "      <td>28-AUG-2024</td>\n",
       "      <td>25030.80</td>\n",
       "      <td>25129.60</td>\n",
       "      <td>24964.65</td>\n",
       "      <td>25052.35</td>\n",
       "      <td>0.001383</td>\n",
       "    </tr>\n",
       "    <tr>\n",
       "      <th>245</th>\n",
       "      <td>29-AUG-2024</td>\n",
       "      <td>25035.30</td>\n",
       "      <td>25192.90</td>\n",
       "      <td>24998.50</td>\n",
       "      <td>25151.95</td>\n",
       "      <td>0.003976</td>\n",
       "    </tr>\n",
       "    <tr>\n",
       "      <th>246</th>\n",
       "      <td>30-AUG-2024</td>\n",
       "      <td>25249.70</td>\n",
       "      <td>25268.35</td>\n",
       "      <td>25199.40</td>\n",
       "      <td>25235.90</td>\n",
       "      <td>0.003338</td>\n",
       "    </tr>\n",
       "  </tbody>\n",
       "</table>\n",
       "<p>246 rows × 6 columns</p>\n",
       "</div>"
      ],
      "text/plain": [
       "           Date      Open      High       Low     Close    Returns\n",
       "1    04-SEP-2023  19525.05  19545.15  19432.85  19528.80       NaN\n",
       "2    05-SEP-2023  19564.65  19587.05  19525.75  19574.90  0.002361\n",
       "3    06-SEP-2023  19581.20  19636.45  19491.50  19611.05  0.001847\n",
       "4    07-SEP-2023  19598.65  19737.00  19550.05  19727.05  0.005915\n",
       "5    08-SEP-2023  19774.80  19867.15  19728.05  19819.95  0.004709\n",
       "..           ...       ...       ...       ...       ...       ...\n",
       "242  26-AUG-2024  24906.10  25043.80  24874.70  25010.60  0.007551\n",
       "243  27-AUG-2024  25024.80  25073.10  24973.65  25017.75  0.000286\n",
       "244  28-AUG-2024  25030.80  25129.60  24964.65  25052.35  0.001383\n",
       "245  29-AUG-2024  25035.30  25192.90  24998.50  25151.95  0.003976\n",
       "246  30-AUG-2024  25249.70  25268.35  25199.40  25235.90  0.003338\n",
       "\n",
       "[246 rows x 6 columns]"
      ]
     },
     "execution_count": 139,
     "metadata": {},
     "output_type": "execute_result"
    }
   ],
   "source": [
    "nifty['Returns'] = nifty['Close '].pct_change()\n",
    "nifty"
   ]
  },
  {
   "cell_type": "code",
   "execution_count": 140,
   "id": "98e95652",
   "metadata": {},
   "outputs": [
    {
     "data": {
      "text/html": [
       "<div>\n",
       "<style scoped>\n",
       "    .dataframe tbody tr th:only-of-type {\n",
       "        vertical-align: middle;\n",
       "    }\n",
       "\n",
       "    .dataframe tbody tr th {\n",
       "        vertical-align: top;\n",
       "    }\n",
       "\n",
       "    .dataframe thead th {\n",
       "        text-align: right;\n",
       "    }\n",
       "</style>\n",
       "<table border=\"1\" class=\"dataframe\">\n",
       "  <thead>\n",
       "    <tr style=\"text-align: right;\">\n",
       "      <th></th>\n",
       "      <th>Date</th>\n",
       "      <th>Open</th>\n",
       "      <th>High</th>\n",
       "      <th>Low</th>\n",
       "      <th>Close</th>\n",
       "      <th>Returns</th>\n",
       "    </tr>\n",
       "  </thead>\n",
       "  <tbody>\n",
       "    <tr>\n",
       "      <th>2</th>\n",
       "      <td>05-SEP-2023</td>\n",
       "      <td>19564.65</td>\n",
       "      <td>19587.05</td>\n",
       "      <td>19525.75</td>\n",
       "      <td>19574.90</td>\n",
       "      <td>0.002361</td>\n",
       "    </tr>\n",
       "    <tr>\n",
       "      <th>3</th>\n",
       "      <td>06-SEP-2023</td>\n",
       "      <td>19581.20</td>\n",
       "      <td>19636.45</td>\n",
       "      <td>19491.50</td>\n",
       "      <td>19611.05</td>\n",
       "      <td>0.001847</td>\n",
       "    </tr>\n",
       "    <tr>\n",
       "      <th>4</th>\n",
       "      <td>07-SEP-2023</td>\n",
       "      <td>19598.65</td>\n",
       "      <td>19737.00</td>\n",
       "      <td>19550.05</td>\n",
       "      <td>19727.05</td>\n",
       "      <td>0.005915</td>\n",
       "    </tr>\n",
       "    <tr>\n",
       "      <th>5</th>\n",
       "      <td>08-SEP-2023</td>\n",
       "      <td>19774.80</td>\n",
       "      <td>19867.15</td>\n",
       "      <td>19728.05</td>\n",
       "      <td>19819.95</td>\n",
       "      <td>0.004709</td>\n",
       "    </tr>\n",
       "    <tr>\n",
       "      <th>6</th>\n",
       "      <td>11-SEP-2023</td>\n",
       "      <td>19890.00</td>\n",
       "      <td>20008.15</td>\n",
       "      <td>19865.35</td>\n",
       "      <td>19996.35</td>\n",
       "      <td>0.008900</td>\n",
       "    </tr>\n",
       "    <tr>\n",
       "      <th>...</th>\n",
       "      <td>...</td>\n",
       "      <td>...</td>\n",
       "      <td>...</td>\n",
       "      <td>...</td>\n",
       "      <td>...</td>\n",
       "      <td>...</td>\n",
       "    </tr>\n",
       "    <tr>\n",
       "      <th>242</th>\n",
       "      <td>26-AUG-2024</td>\n",
       "      <td>24906.10</td>\n",
       "      <td>25043.80</td>\n",
       "      <td>24874.70</td>\n",
       "      <td>25010.60</td>\n",
       "      <td>0.007551</td>\n",
       "    </tr>\n",
       "    <tr>\n",
       "      <th>243</th>\n",
       "      <td>27-AUG-2024</td>\n",
       "      <td>25024.80</td>\n",
       "      <td>25073.10</td>\n",
       "      <td>24973.65</td>\n",
       "      <td>25017.75</td>\n",
       "      <td>0.000286</td>\n",
       "    </tr>\n",
       "    <tr>\n",
       "      <th>244</th>\n",
       "      <td>28-AUG-2024</td>\n",
       "      <td>25030.80</td>\n",
       "      <td>25129.60</td>\n",
       "      <td>24964.65</td>\n",
       "      <td>25052.35</td>\n",
       "      <td>0.001383</td>\n",
       "    </tr>\n",
       "    <tr>\n",
       "      <th>245</th>\n",
       "      <td>29-AUG-2024</td>\n",
       "      <td>25035.30</td>\n",
       "      <td>25192.90</td>\n",
       "      <td>24998.50</td>\n",
       "      <td>25151.95</td>\n",
       "      <td>0.003976</td>\n",
       "    </tr>\n",
       "    <tr>\n",
       "      <th>246</th>\n",
       "      <td>30-AUG-2024</td>\n",
       "      <td>25249.70</td>\n",
       "      <td>25268.35</td>\n",
       "      <td>25199.40</td>\n",
       "      <td>25235.90</td>\n",
       "      <td>0.003338</td>\n",
       "    </tr>\n",
       "  </tbody>\n",
       "</table>\n",
       "<p>245 rows × 6 columns</p>\n",
       "</div>"
      ],
      "text/plain": [
       "           Date      Open      High       Low     Close    Returns\n",
       "2    05-SEP-2023  19564.65  19587.05  19525.75  19574.90  0.002361\n",
       "3    06-SEP-2023  19581.20  19636.45  19491.50  19611.05  0.001847\n",
       "4    07-SEP-2023  19598.65  19737.00  19550.05  19727.05  0.005915\n",
       "5    08-SEP-2023  19774.80  19867.15  19728.05  19819.95  0.004709\n",
       "6    11-SEP-2023  19890.00  20008.15  19865.35  19996.35  0.008900\n",
       "..           ...       ...       ...       ...       ...       ...\n",
       "242  26-AUG-2024  24906.10  25043.80  24874.70  25010.60  0.007551\n",
       "243  27-AUG-2024  25024.80  25073.10  24973.65  25017.75  0.000286\n",
       "244  28-AUG-2024  25030.80  25129.60  24964.65  25052.35  0.001383\n",
       "245  29-AUG-2024  25035.30  25192.90  24998.50  25151.95  0.003976\n",
       "246  30-AUG-2024  25249.70  25268.35  25199.40  25235.90  0.003338\n",
       "\n",
       "[245 rows x 6 columns]"
      ]
     },
     "execution_count": 140,
     "metadata": {},
     "output_type": "execute_result"
    }
   ],
   "source": [
    "nifty.dropna(inplace=True)\n",
    "nifty "
   ]
  },
  {
   "cell_type": "code",
   "execution_count": 153,
   "id": "6f72d5f1",
   "metadata": {},
   "outputs": [
    {
     "name": "stdout",
     "output_type": "stream",
     "text": [
      "-0.010948045541979545\n",
      "VaR at 95.0% confidence level: Rs276.28\n"
     ]
    }
   ],
   "source": [
    "#define confidence level\n",
    "confidence_level = 0.95\n",
    "\n",
    "var = np.percentile(nifty['Returns'],(1- confidence_level)*100)\n",
    "print(var)\n",
    "VaR = -var*nifty['Close '].iloc[-1]\n",
    "print(f\"VaR at {confidence_level*100}% confidence level: Rs{VaR:.2f}\")"
   ]
  },
  {
   "cell_type": "code",
   "execution_count": 145,
   "id": "bd35209f",
   "metadata": {},
   "outputs": [
    {
     "data": {
      "image/png": "[encoded data removed]",
      "text/plain": [
       "<Figure size 720x432 with 1 Axes>"
      ]
     },
     "metadata": {
      "needs_background": "light"
     },
     "output_type": "display_data"
    }
   ],
   "source": [
    "plt.figure(figsize = (10,6))\n",
    "plt.hist(nifty['Returns'], bins=50, alpha=0.75, color='blue')\n",
    "plt.axvline(x=var, color='red', linestyle='--', label=f'VaR({confidence_level*100}%):{var:.4f}')\n",
    "plt.title('Distribution of Daily Returns')\n",
    "plt.xlabel('Daily Returns')\n",
    "plt.ylabel('Frequency')\n",
    "plt.legend()\n",
    "plt.show()"
   ]
  },
  {
   "cell_type": "code",
   "execution_count": 116,
   "id": "e4e95fc2",
   "metadata": {},
   "outputs": [],
   "source": [
    "## Monte Carlo simulation VaR modeling "
   ]
  },
  {
   "cell_type": "code",
   "execution_count": 146,
   "id": "38a49540",
   "metadata": {},
   "outputs": [
    {
     "name": "stdout",
     "output_type": "stream",
     "text": [
      "Mean of Returns; 0.0010819900456745034\n",
      "Standard deviation of returns: 0.008356756258843656\n"
     ]
    }
   ],
   "source": [
    "mu = nifty['Returns'].mean()\n",
    "sigma = nifty['Returns'].std()\n",
    "\n",
    "print(f'Mean of Returns; {mu}')\n",
    "print('Standard deviation of returns: {}'.format(sigma))"
   ]
  },
  {
   "cell_type": "code",
   "execution_count": 155,
   "id": "96d3d40c",
   "metadata": {},
   "outputs": [
    {
     "name": "stdout",
     "output_type": "stream",
     "text": [
      "[-0.00164385 -0.01212859  0.004617   -0.0066888   0.00094679]\n"
     ]
    }
   ],
   "source": [
    "# Simulate Future Returns\n",
    "num_simulations = 10000\n",
    "days = 1\n",
    "\n",
    "simulated_returns = np.random.normal(mu, sigma, num_simulations)\n",
    "\n",
    "print(simulated_returns[:5])"
   ]
  },
  {
   "cell_type": "code",
   "execution_count": 156,
   "id": "64909ee3",
   "metadata": {},
   "outputs": [
    {
     "name": "stdout",
     "output_type": "stream",
     "text": [
      "[25194.41608612 24929.82407485 25352.41425218 25067.10223138\n",
      " 25259.79297202]\n"
     ]
    }
   ],
   "source": [
    "# Calculate the Portfolio Value for Each Simulated Return \n",
    "\n",
    "current_value = nifty['Close '].iloc[-1]\n",
    "\n",
    "simulated_portfolio_values = current_value*(1+simulated_returns)\n",
    "\n",
    "print(simulated_portfolio_values[:5])"
   ]
  },
  {
   "cell_type": "code",
   "execution_count": 157,
   "id": "be1ef4d7",
   "metadata": {},
   "outputs": [
    {
     "name": "stdout",
     "output_type": "stream",
     "text": [
      "[  41.48391388  306.07592515 -116.51425218  168.79776862  -23.89297202]\n"
     ]
    }
   ],
   "source": [
    "# Calculate the Simulated Losses\n",
    "\n",
    "simulated_losses = current_value - simulated_portfolio_values\n",
    "\n",
    "print(simulated_losses[:5])"
   ]
  },
  {
   "cell_type": "code",
   "execution_count": 158,
   "id": "59ec5e1b",
   "metadata": {
    "scrolled": true
   },
   "outputs": [
    {
     "name": "stdout",
     "output_type": "stream",
     "text": [
      "Monte Carlo VaR at 95.0% confidence level: Rs374.53\n"
     ]
    }
   ],
   "source": [
    "# Determine the VaR at the Desired Confidence Level\n",
    "\n",
    "simulated_losses_sorted = np.sort(simulated_losses)\n",
    "\n",
    "confidence_level = 0.95\n",
    "\n",
    "var_percentile = np.percentile(simulated_losses_sorted, (1- confidence_level)*100)\n",
    "\n",
    "print(f'Monte Carlo VaR at {confidence_level*100}% confidence level: Rs{var_percentile*-1:.2f}')"
   ]
  },
  {
   "cell_type": "code",
   "execution_count": null,
   "id": "fc58b39c",
   "metadata": {},
   "outputs": [],
   "source": []
  }
 ],
 "metadata": {
  "kernelspec": {
   "display_name": "Python 3",
   "language": "python",
   "name": "python3"
  },
  "language_info": {
   "codemirror_mode": {
    "name": "ipython",
    "version": 3
   },
   "file_extension": ".py",
   "mimetype": "text/x-python",
   "name": "python",
   "nbconvert_exporter": "python",
   "pygments_lexer": "ipython3",
   "version": "3.8.8"
  }
 },
 "nbformat": 4,
 "nbformat_minor": 5
}
